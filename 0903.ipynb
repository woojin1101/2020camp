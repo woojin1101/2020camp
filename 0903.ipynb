{
  "nbformat": 4,
  "nbformat_minor": 0,
  "metadata": {
    "colab": {
      "name": "0903",
      "provenance": [],
      "authorship_tag": "ABX9TyMqhbwW/JXQY3qiTKV8FnKq",
      "include_colab_link": true
    },
    "kernelspec": {
      "name": "python3",
      "display_name": "Python 3"
    }
  },
  "cells": [
    {
      "cell_type": "markdown",
      "metadata": {
        "id": "view-in-github",
        "colab_type": "text"
      },
      "source": [
        "<a href=\"https://colab.research.google.com/github/woojin1101/2020camp/blob/master/0903.ipynb\" target=\"_parent\"><img src=\"https://colab.research.google.com/assets/colab-badge.svg\" alt=\"Open In Colab\"/></a>"
      ]
    },
    {
      "cell_type": "code",
      "metadata": {
        "id": "jnWlWVhexkYB",
        "colab_type": "code",
        "colab": {
          "base_uri": "https://localhost:8080/",
          "height": 70
        },
        "outputId": "686e6ac2-64a7-4fc2-8024-7a2e8bd6d794"
      },
      "source": [
        "print(\"input num :\")\n",
        "x=int(input())\n",
        "if x%2==0:\n",
        " print(x, \"is an even number.\")\n",
        "elif x%3==0:\n",
        " print(x, \"is 3*\")\n",
        "else:\n",
        " print(x, \"is an odd number.\")"
      ],
      "execution_count": null,
      "outputs": [
        {
          "output_type": "stream",
          "text": [
            "input num :\n",
            "3\n",
            "3 is 3*\n"
          ],
          "name": "stdout"
        }
      ]
    },
    {
      "cell_type": "code",
      "metadata": {
        "id": "YqeelmHSyrZ2",
        "colab_type": "code",
        "colab": {
          "base_uri": "https://localhost:8080/",
          "height": 105
        },
        "outputId": "635f32d4-d718-47e3-d783-fa0be0138cf7"
      },
      "source": [
        "for i in range(5): # i=0 i<5; i++\n",
        "  print(\"i =\", i)"
      ],
      "execution_count": null,
      "outputs": [
        {
          "output_type": "stream",
          "text": [
            "i = 0\n",
            "i = 1\n",
            "i = 2\n",
            "i = 3\n",
            "i = 4\n"
          ],
          "name": "stdout"
        }
      ]
    },
    {
      "cell_type": "code",
      "metadata": {
        "id": "RPQ1dUuby6We",
        "colab_type": "code",
        "colab": {
          "base_uri": "https://localhost:8080/",
          "height": 158
        },
        "outputId": "85d3117d-ea37-43cc-90f7-4580ec7ee63a"
      },
      "source": [
        "for i in range(20, 100, 10):\n",
        "  print(\"i = :\", i)"
      ],
      "execution_count": null,
      "outputs": [
        {
          "output_type": "stream",
          "text": [
            "i = : 20\n",
            "i = : 30\n",
            "i = : 40\n",
            "i = : 50\n",
            "i = : 60\n",
            "i = : 70\n",
            "i = : 80\n",
            "i = : 90\n"
          ],
          "name": "stdout"
        }
      ]
    },
    {
      "cell_type": "code",
      "metadata": {
        "id": "scT-ke-mzCVt",
        "colab_type": "code",
        "colab": {
          "base_uri": "https://localhost:8080/",
          "height": 52
        },
        "outputId": "e3276db4-447a-43e9-a8a4-d367d824208f"
      },
      "source": [
        "#List 장점 flexible, \n",
        "a = [5,10,15,20,25,30,35,40]\n",
        "print(a)\n",
        "print(\"len(a)=\", len(a))"
      ],
      "execution_count": null,
      "outputs": [
        {
          "output_type": "stream",
          "text": [
            "[5, 10, 15, 20, 25, 30, 35, 40]\n",
            "len(a)= 8\n"
          ],
          "name": "stdout"
        }
      ]
    },
    {
      "cell_type": "code",
      "metadata": {
        "id": "1YNUsdCTzXcy",
        "colab_type": "code",
        "colab": {
          "base_uri": "https://localhost:8080/",
          "height": 52
        },
        "outputId": "1e4fb50e-7a0d-44f8-f376-7211b7bafce3"
      },
      "source": [
        "#list can contains different types\n",
        "b = [3.14,100,'hello',a]\n",
        "print(b)\n",
        "print(a[2])"
      ],
      "execution_count": null,
      "outputs": [
        {
          "output_type": "stream",
          "text": [
            "[3.14, 100, 'hello', [5, 10, 15, 20, 25, 30, 35, 40]]\n",
            "15\n"
          ],
          "name": "stdout"
        }
      ]
    },
    {
      "cell_type": "code",
      "metadata": {
        "id": "DJw5vS1Aztr8",
        "colab_type": "code",
        "colab": {
          "base_uri": "https://localhost:8080/",
          "height": 87
        },
        "outputId": "34ac90b1-d0a9-4865-9221-35dbadf49fc3"
      },
      "source": [
        "print(\"a[0:3]= \", a[0:3]) #0이상 3미만\n",
        "print(a[2]) #그냥 element type 여기서는 int!!\n",
        "print(a[2:3]) #slicing 사용하면 list type으로 나옴.\n",
        "print(a[0:6:2]) #2칸씩 건너뛰면서 "
      ],
      "execution_count": null,
      "outputs": [
        {
          "output_type": "stream",
          "text": [
            "a[0:3]=  [5, 10, 15]\n",
            "15\n",
            "[15]\n",
            "[5, 15, 25]\n"
          ],
          "name": "stdout"
        }
      ]
    },
    {
      "cell_type": "code",
      "metadata": {
        "id": "8XXo4W9q0hgg",
        "colab_type": "code",
        "colab": {}
      },
      "source": [
        "a.append(50) #뒤에 추가시키는 것\n",
        "a.remove(5) #element 5를 삭제\n",
        "a.insert(45,8) #45를 8번째에 삽입"
      ],
      "execution_count": null,
      "outputs": []
    },
    {
      "cell_type": "code",
      "metadata": {
        "id": "eD0lxxt2zptv",
        "colab_type": "code",
        "colab": {
          "base_uri": "https://localhost:8080/",
          "height": 34
        },
        "outputId": "f41297a3-b353-4d1e-ca3f-86111fbd08fa"
      },
      "source": [
        "x=[]\n",
        "for a in range(1,100,1):\n",
        " if a%3==0 :\n",
        "   x.append(a)\n",
        "\n",
        "print(x)"
      ],
      "execution_count": null,
      "outputs": [
        {
          "output_type": "stream",
          "text": [
            "[3, 6, 9, 12, 15, 18, 21, 24, 27, 30, 33, 36, 39, 42, 45, 48, 51, 54, 57, 60, 63, 66, 69, 72, 75, 78, 81, 84, 87, 90, 93, 96, 99]\n"
          ],
          "name": "stdout"
        }
      ]
    },
    {
      "cell_type": "code",
      "metadata": {
        "id": "K-DhW2Ot1uMA",
        "colab_type": "code",
        "colab": {
          "base_uri": "https://localhost:8080/",
          "height": 70
        },
        "outputId": "2f2dfa26-d699-4f24-994e-8fdc2e20c633"
      },
      "source": [
        "animals = ['cat','dog', 'monkey']\n",
        "for idx, animal in enumerate(animals):\n",
        "  print('{}:{}'.format(idx+1, animal))"
      ],
      "execution_count": null,
      "outputs": [
        {
          "output_type": "stream",
          "text": [
            "1:cat\n",
            "2:dog\n",
            "3:monkey\n"
          ],
          "name": "stdout"
        }
      ]
    },
    {
      "cell_type": "code",
      "metadata": {
        "id": "fzfnAxuR2Fr5",
        "colab_type": "code",
        "colab": {
          "base_uri": "https://localhost:8080/",
          "height": 52
        },
        "outputId": "9088b482-4cee-4803-fd64-9fcfd65ab6c8"
      },
      "source": [
        "a=10\n",
        "b=20\n",
        "a, b = b,a\n",
        "print(a)\n",
        "print(b)"
      ],
      "execution_count": null,
      "outputs": [
        {
          "output_type": "stream",
          "text": [
            "20\n",
            "10\n"
          ],
          "name": "stdout"
        }
      ]
    },
    {
      "cell_type": "code",
      "metadata": {
        "id": "WFkl8CVC2hi5",
        "colab_type": "code",
        "colab": {
          "base_uri": "https://localhost:8080/",
          "height": 34
        },
        "outputId": "1ce7f394-9c29-4bab-f51e-d1c29ad75da7"
      },
      "source": [
        "nums=[0,1,2,3,4]\n",
        "sq =[]\n",
        "for x in nums:\n",
        "  sq.append(x**2) #x**2 means ^2\n",
        "print(sq)"
      ],
      "execution_count": null,
      "outputs": [
        {
          "output_type": "stream",
          "text": [
            "[0, 1, 4, 9, 16]\n"
          ],
          "name": "stdout"
        }
      ]
    },
    {
      "cell_type": "code",
      "metadata": {
        "id": "5ae5NU4a22zo",
        "colab_type": "code",
        "colab": {
          "base_uri": "https://localhost:8080/",
          "height": 34
        },
        "outputId": "c034b8ed-d9bf-4655-9146-c98a909faae8"
      },
      "source": [
        "ev_sq=[x**2 for x in nums if x%2==0] #x를 제곱해라 nums에 있는 x가 짝수일 경우에만..\n",
        "print(ev_sq)"
      ],
      "execution_count": null,
      "outputs": [
        {
          "output_type": "stream",
          "text": [
            "[0, 4, 16]\n"
          ],
          "name": "stdout"
        }
      ]
    },
    {
      "cell_type": "code",
      "metadata": {
        "id": "2O4LGSXe1lJl",
        "colab_type": "code",
        "colab": {}
      },
      "source": [
        "list2d= [[1,2,3], [4,5,6]]"
      ],
      "execution_count": null,
      "outputs": []
    },
    {
      "cell_type": "code",
      "metadata": {
        "id": "nTo_wInG7j9q",
        "colab_type": "code",
        "colab": {}
      },
      "source": [
        ""
      ],
      "execution_count": null,
      "outputs": []
    },
    {
      "cell_type": "code",
      "metadata": {
        "id": "H9O8FFo17PqM",
        "colab_type": "code",
        "colab": {}
      },
      "source": [
        ""
      ],
      "execution_count": null,
      "outputs": []
    },
    {
      "cell_type": "code",
      "metadata": {
        "id": "H3NA8xvl7KKQ",
        "colab_type": "code",
        "colab": {}
      },
      "source": [
        ""
      ],
      "execution_count": null,
      "outputs": []
    },
    {
      "cell_type": "code",
      "metadata": {
        "id": "K21rRQKg6Ozn",
        "colab_type": "code",
        "colab": {}
      },
      "source": [
        ""
      ],
      "execution_count": null,
      "outputs": []
    },
    {
      "cell_type": "code",
      "metadata": {
        "id": "G2WKPMsi6EGe",
        "colab_type": "code",
        "colab": {}
      },
      "source": [
        ""
      ],
      "execution_count": null,
      "outputs": []
    },
    {
      "cell_type": "code",
      "metadata": {
        "id": "fku5Hh366BiW",
        "colab_type": "code",
        "colab": {}
      },
      "source": [
        ""
      ],
      "execution_count": null,
      "outputs": []
    }
  ]
}